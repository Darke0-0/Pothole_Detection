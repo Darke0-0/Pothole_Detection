{
 "cells": [
  {
   "cell_type": "markdown",
   "id": "white-chocolate",
   "metadata": {},
   "source": [
    "## Introduction\n",
    "In this notebook we will create a custom DataSet which will load and return an X-Ray image together with the location of the heart"
   ]
  },
  {
   "cell_type": "markdown",
   "id": "unnecessary-limit",
   "metadata": {},
   "source": [
    "## Imports:\n",
    "\n",
    "* Path for easy path handling\n",
    "* torch for dataset creation\n",
    "* numpy for loading the images\n",
    "* pandas for loading the csv file containing the labels\n",
    "* imgaug to set a random seed for augmentations\n",
    "* BoundingBox from imgaug to automatically handle the coordinates when augmenting the image\n",
    "\n"
   ]
  },
  {
   "cell_type": "code",
   "execution_count": 3,
   "id": "accredited-florence",
   "metadata": {},
   "outputs": [],
   "source": [
    "import torch\n",
    "import numpy as np\n",
    "import pandas as pd\n",
    "import imgaug\n",
    "from imgaug.augmentables.bbs import BoundingBox\n",
    "from pathlib import Path"
   ]
  },
  {
   "cell_type": "code",
   "execution_count": 4,
   "id": "e461e844",
   "metadata": {},
   "outputs": [],
   "source": [
    "import os\n",
    "import cv2"
   ]
  },
  {
   "cell_type": "code",
   "execution_count": 5,
   "id": "309c311e",
   "metadata": {},
   "outputs": [],
   "source": [
    "import imgaug.augmenters as iaa\n",
    "import matplotlib.pyplot as plt\n",
    "import matplotlib.patches as patches"
   ]
  },
  {
   "cell_type": "code",
   "execution_count": 14,
   "id": "41f9afc9",
   "metadata": {},
   "outputs": [],
   "source": [
    "df = pd.read_csv('Data/train_df.csv')"
   ]
  },
  {
   "cell_type": "code",
   "execution_count": 15,
   "id": "b3573525",
   "metadata": {},
   "outputs": [
    {
     "data": {
      "text/html": [
       "<div>\n",
       "<style scoped>\n",
       "    .dataframe tbody tr th:only-of-type {\n",
       "        vertical-align: middle;\n",
       "    }\n",
       "\n",
       "    .dataframe tbody tr th {\n",
       "        vertical-align: top;\n",
       "    }\n",
       "\n",
       "    .dataframe thead th {\n",
       "        text-align: right;\n",
       "    }\n",
       "</style>\n",
       "<table border=\"1\" class=\"dataframe\">\n",
       "  <thead>\n",
       "    <tr style=\"text-align: right;\">\n",
       "      <th></th>\n",
       "      <th>image_id</th>\n",
       "      <th>num_potholes</th>\n",
       "      <th>x</th>\n",
       "      <th>y</th>\n",
       "      <th>w</th>\n",
       "      <th>h</th>\n",
       "    </tr>\n",
       "  </thead>\n",
       "  <tbody>\n",
       "    <tr>\n",
       "      <th>0</th>\n",
       "      <td>G0010033</td>\n",
       "      <td>6</td>\n",
       "      <td>1990</td>\n",
       "      <td>1406</td>\n",
       "      <td>66</td>\n",
       "      <td>14</td>\n",
       "    </tr>\n",
       "    <tr>\n",
       "      <th>1</th>\n",
       "      <td>G0010033</td>\n",
       "      <td>6</td>\n",
       "      <td>1464</td>\n",
       "      <td>1442</td>\n",
       "      <td>92</td>\n",
       "      <td>16</td>\n",
       "    </tr>\n",
       "    <tr>\n",
       "      <th>2</th>\n",
       "      <td>G0010033</td>\n",
       "      <td>6</td>\n",
       "      <td>1108</td>\n",
       "      <td>1450</td>\n",
       "      <td>54</td>\n",
       "      <td>16</td>\n",
       "    </tr>\n",
       "    <tr>\n",
       "      <th>3</th>\n",
       "      <td>G0010033</td>\n",
       "      <td>6</td>\n",
       "      <td>558</td>\n",
       "      <td>1434</td>\n",
       "      <td>102</td>\n",
       "      <td>16</td>\n",
       "    </tr>\n",
       "    <tr>\n",
       "      <th>4</th>\n",
       "      <td>G0010033</td>\n",
       "      <td>6</td>\n",
       "      <td>338</td>\n",
       "      <td>1450</td>\n",
       "      <td>72</td>\n",
       "      <td>18</td>\n",
       "    </tr>\n",
       "  </tbody>\n",
       "</table>\n",
       "</div>"
      ],
      "text/plain": [
       "   image_id  num_potholes     x     y    w   h\n",
       "0  G0010033             6  1990  1406   66  14\n",
       "1  G0010033             6  1464  1442   92  16\n",
       "2  G0010033             6  1108  1450   54  16\n",
       "3  G0010033             6   558  1434  102  16\n",
       "4  G0010033             6   338  1450   72  18"
      ]
     },
     "execution_count": 15,
     "metadata": {},
     "output_type": "execute_result"
    }
   ],
   "source": [
    "df.head()"
   ]
  },
  {
   "cell_type": "code",
   "execution_count": 19,
   "id": "313d02d2",
   "metadata": {},
   "outputs": [
    {
     "data": {
      "text/plain": [
       "3940"
      ]
     },
     "execution_count": 19,
     "metadata": {},
     "output_type": "execute_result"
    }
   ],
   "source": [
    "df.image_id.nunique()"
   ]
  },
  {
   "cell_type": "code",
   "execution_count": 17,
   "id": "ee1aeada",
   "metadata": {},
   "outputs": [],
   "source": [
    "directory = 'Data\\Dataset\\Train data\\\\Negative Data'\n",
    "        \n",
    "# iterate over files in that directory\n",
    "for root, dirs, files in os.walk(directory):\n",
    "    # print(root)\n",
    "    for filename in files:\n",
    "        name = filename.replace('.',' ').split()[0]\n",
    "        df = df.append()"
   ]
  },
  {
   "cell_type": "markdown",
   "id": "coral-awareness",
   "metadata": {},
   "source": [
    "## DataSet Creation\n",
    "Now we define the torch dataset!\n",
    "We need to define a __ len __ function which returns the length of the dataset and a __ getitem __ function which returns the image and corresponding bounding box.\n",
    "\n",
    "Additionally we apply data augmentation and normalization.\n",
    "\n",
    "**Important**: Augment bounding box together with image!<br />\n",
    "You can use *BoundingBox(x1, y1, x2, y2) for that*.<br />\n",
    "Next you call *self.augment(image=img, bounding_boxes=bb)* which returns the augmented image and bounding boxes<br />\n",
    "Finally you extract the coordinates from the augmented bbox coordinates. Note that it is a 2D array.\n",
    "```python\n",
    "bb = BoundingBox(x1=bbox[0], y1=bbox[1], x2=bbox[2], y2=bbox[3])\n",
    "img, aug_bbox  = self.augment(image=img, bounding_boxes=bb)\n",
    "bbox = aug_bbox[0][0], aug_bbox[0][1], aug_bbox[1][0], aug_bbox[1][1]\n",
    "```"
   ]
  },
  {
   "cell_type": "code",
   "execution_count": 6,
   "id": "3347508c",
   "metadata": {},
   "outputs": [],
   "source": [
    "# First create the augmentation object\n",
    "\n",
    "seq = iaa.Sequential([\n",
    "            iaa.Affine(\n",
    "                scale=(0.75),\n",
    "                rotate=(-10, 10),\n",
    "                translate_px=(-10, 10)\n",
    "            )\n",
    "        ])"
   ]
  },
  {
   "cell_type": "code",
   "execution_count": 7,
   "id": "universal-ministry",
   "metadata": {},
   "outputs": [],
   "source": [
    "class CardiacDataset(torch.utils.data.Dataset):\n",
    "\n",
    "    def __init__(self, path_to_labels_csv, directory,root, augs):\n",
    "        \n",
    "        self.labels = pd.read_csv(path_to_labels_csv)\n",
    "        self.bbox = []\n",
    "        self.root_path = root\n",
    "        self.directory = directory\n",
    "        self.patients = []\n",
    "        self.augment = augs\n",
    "\n",
    "    def set_up_dataset(self):\n",
    "        for root, dirs, files in os.walk(self.directory):\n",
    "            for filename in files:\n",
    "                path = os.path.join(root, filename)\n",
    "                img = cv2.imread(path, cv2.IMREAD_GRAYSCALE)\n",
    "                y, x = img.shape\n",
    "                img = cv2.resize(img,(720,720))\n",
    "                patient = filename.replace('.',' ').split()[0]\n",
    "                data = self.labels[self.labels[\"image_id\"]==patient]\n",
    "        \n",
    "                # Get entries of given patient\n",
    "                # Extract coordinates\n",
    "                x_min = data[\"x\"]*(720/x)\n",
    "                y_min = data[\"y\"]*(720/y)\n",
    "                x_max = x_min + data[\"w\"]*(720/x)  # get xmax from width\n",
    "                y_max = y_min + data[\"h\"]*(720/y)  # get ymax from height\n",
    "                try:\n",
    "                    max_arg = y_max.argmax()\n",
    "                    bbox = [x_min.to_list()[max_arg],y_min.to_list()[max_arg],x_max.to_list()[max_arg],y_max.to_list()[max_arg]]\n",
    "                except:\n",
    "                    max_arg = 0\n",
    "                    bbox = [np.NaN, np.NaN, np.NaN, np.NaN]\n",
    "                \n",
    "                self.patients.append(img)\n",
    "                self.bbox.append(bbox)\n",
    "                \n",
    "    def  __len__(self):\n",
    "        \"\"\"\n",
    "        Returns the length of the dataset\n",
    "        \"\"\"\n",
    "        return len(self.patients)\n",
    "        \n",
    "    def __getitem__(self, idx):\n",
    "        \"\"\"\n",
    "        Returns an image paired with bbox around the heart\n",
    "        \"\"\"\n",
    "        patient = self.patients[idx]\n",
    "        # Get data according to index\n",
    "        bbox = self.bbox[idx]\n",
    "\n",
    "        # # Load file and convert to float32\n",
    "        # file_path = self.root_path/patient  # Create the path to the file\n",
    "        # img = np.load(f\"{file_path}.npy\").astype(np.float32)\n",
    "        img = patient.astype(np.float32)\n",
    "        \n",
    "        # Apply imgaug augmentations to image and bounding box\n",
    "        if self.augment:\n",
    "            \n",
    "            bb = BoundingBox(x1=bbox[0], y1=bbox[1], x2=bbox[2], y2=bbox[3])\n",
    "            \n",
    "            ###################IMPORTANT###################\n",
    "            # Fix for https://discuss.pytorch.org/t/dataloader-workers-generate-the-same-random-augmentations/28830/2\n",
    "            # https://github.com/pytorch/pytorch/issues/5059\n",
    "            random_seed = torch.randint(0, 1000000, (1,)).item()\n",
    "            imgaug.seed(random_seed)\n",
    "            #####################################################\n",
    "\n",
    "            img, aug_bbox  = self.augment(image=img, bounding_boxes=bb)\n",
    "            bbox = aug_bbox[0][0], aug_bbox[0][1], aug_bbox[1][0], aug_bbox[1][1]\n",
    "            \n",
    "            \n",
    "        # Normalize the image according to the values computed in Preprocessing\n",
    "        img = (img - 0.494) / 0.252\n",
    "\n",
    "        img = torch.tensor(img).unsqueeze(0)\n",
    "        bbox = torch.tensor(bbox)\n",
    "            \n",
    "        return img, bbox\n"
   ]
  },
  {
   "cell_type": "code",
   "execution_count": 8,
   "id": "8ea22519",
   "metadata": {},
   "outputs": [],
   "source": [
    "labels_path = \"Data/train_df.csv\"\n",
    "patients_path = \"Data/Dataset/Train data/\"\n",
    "train_root = \"Processed/train/\"\n",
    "dataset = CardiacDataset(\"Data/train_df.csv\",'Data/Dataset/Test data',train_root,None)"
   ]
  },
  {
   "cell_type": "code",
   "execution_count": 9,
   "id": "e03dbd13",
   "metadata": {},
   "outputs": [],
   "source": [
    "dataset.set_up_dataset()"
   ]
  },
  {
   "cell_type": "code",
   "execution_count": 10,
   "id": "f8ef87a4",
   "metadata": {},
   "outputs": [
    {
     "data": {
      "text/plain": [
       "628"
      ]
     },
     "execution_count": 10,
     "metadata": {},
     "output_type": "execute_result"
    }
   ],
   "source": [
    "len(dataset)"
   ]
  },
  {
   "cell_type": "code",
   "execution_count": 13,
   "id": "maritime-contemporary",
   "metadata": {},
   "outputs": [
    {
     "data": {
      "text/plain": [
       "<matplotlib.patches.Rectangle at 0x1dd32543790>"
      ]
     },
     "execution_count": 13,
     "metadata": {},
     "output_type": "execute_result"
    },
    {
     "data": {
      "image/png": "[encoded data removed]",
      "text/plain": [
       "<Figure size 432x288 with 1 Axes>"
      ]
     },
     "metadata": {
      "needs_background": "light"
     },
     "output_type": "display_data"
    }
   ],
   "source": [
    "img , bbox = dataset[300]\n",
    "fig, axis = plt.subplots(1, 1)\n",
    "axis.imshow(img[0])\n",
    "# print(num)\n",
    "# if num != 0:\n",
    "# for i in range(len(bbox[0])):\n",
    "rect = patches.Rectangle((bbox[0], bbox[1]), bbox[2]-bbox[0], bbox[3]-bbox[1], edgecolor=\"r\", facecolor=\"none\")\n",
    "axis.add_patch(rect)"
   ]
  },
  {
   "cell_type": "markdown",
   "id": "compressed-crime",
   "metadata": {},
   "source": [
    "Awesome! Now we can move to training the heart detection network"
   ]
  },
  {
   "cell_type": "code",
   "execution_count": null,
   "id": "c2a063af",
   "metadata": {},
   "outputs": [
    {
     "data": {
      "text/plain": [
       "float"
      ]
     },
     "execution_count": 67,
     "metadata": {},
     "output_type": "execute_result"
    }
   ],
   "source": [
    "type(img[0][0][0].item())"
   ]
  },
  {
   "cell_type": "code",
   "execution_count": null,
   "id": "f550c684",
   "metadata": {},
   "outputs": [],
   "source": []
  },
  {
   "cell_type": "code",
   "execution_count": null,
   "id": "df8f3fc8",
   "metadata": {},
   "outputs": [],
   "source": []
  }
 ],
 "metadata": {
  "kernelspec": {
   "display_name": "Python 3 (ipykernel)",
   "language": "python",
   "name": "python3"
  },
  "language_info": {
   "codemirror_mode": {
    "name": "ipython",
    "version": 3
   },
   "file_extension": ".py",
   "mimetype": "text/x-python",
   "name": "python",
   "nbconvert_exporter": "python",
   "pygments_lexer": "ipython3",
   "version": "3.9.7"
  }
 },
 "nbformat": 4,
 "nbformat_minor": 5
}
